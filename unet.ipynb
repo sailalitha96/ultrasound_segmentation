{
 "cells": [
  {
   "cell_type": "code",
   "execution_count": 1,
   "metadata": {},
   "outputs": [],
   "source": [
    "import os\n",
    "import re\n",
    "import numpy as np\n",
    "import pandas as pd\n",
    "import matplotlib.pyplot as plt\n",
    "import glob\n",
    "import cv2\n",
    "import re\n",
    "from PIL import Image\n",
    "from skimage.transform import resize\n",
    "from sklearn.model_selection import train_test_split"
   ]
  },
  {
   "cell_type": "code",
   "execution_count": 2,
   "metadata": {},
   "outputs": [
    {
     "name": "stderr",
     "output_type": "stream",
     "text": [
      "Using TensorFlow backend.\n"
     ]
    }
   ],
   "source": [
    "import keras\n",
    "from keras.models import Model, Input, load_model\n",
    "from keras.layers import Input\n",
    "from keras.layers.core import Dropout, Lambda\n",
    "from keras.layers.convolutional import Conv2D, Conv2DTranspose\n",
    "from keras.layers.pooling import MaxPooling2D\n",
    "from keras.layers.merge import concatenate\n",
    "from keras.optimizers import Adam\n",
    "from keras.callbacks import EarlyStopping, ModelCheckpoint\n",
    "from keras import backend as K\n"
   ]
  },
  {
   "cell_type": "code",
   "execution_count": 48,
   "metadata": {},
   "outputs": [],
   "source": [
    "## get all the array values from the npy files \n",
    "train_img = np.load('train_images.npy')\n",
    "train_mask = np.load('train_masks.npy')"
   ]
  },
  {
   "cell_type": "code",
   "execution_count": 49,
   "metadata": {},
   "outputs": [],
   "source": [
    "########need to resize the images to pass it to U-net \n",
    "import random\n",
    "indices = np.random.choice(range(len(train_img)), replace = False ,size = 100)\n",
    "\n",
    "X = train_img[indices, :,:,np.newaxis]/255\n",
    "y= train_mask[indices,:,:,np.newaxis]/255"
   ]
  },
  {
   "cell_type": "code",
   "execution_count": 50,
   "metadata": {},
   "outputs": [
    {
     "name": "stdout",
     "output_type": "stream",
     "text": [
      "X shape :  (100, 128, 128, 1)\n",
      "y shape :  (100, 128, 128, 1)\n"
     ]
    }
   ],
   "source": [
    "# X = X[:,:,:,np.newaxis] / 255\n",
    "# y = y[:,:,:,np.newaxis] / 255\n",
    "print(\"X shape : \", X.shape)\n",
    "print(\"y shape : \", y.shape)"
   ]
  },
  {
   "cell_type": "code",
   "execution_count": 8,
   "metadata": {},
   "outputs": [],
   "source": [
    "def dice_coefficent(img, mask):\n",
    "    smooth =1\n",
    "    img_points = K.flatten(img)\n",
    "    mask_points =K.flatten(mask)\n",
    "    intersection = K.sum(img_points*mask_points)\n",
    "    \n",
    "    coef = (2.*intersection + smooth) / (K.sum(img_points)+K.sum(mask_points) +smooth)\n",
    "    return coef\n",
    "\n",
    "def loss_dice(img,mask):\n",
    "    loss = - dice_coefficent(img,mask)\n",
    "    return loss\n",
    "    "
   ]
  },
  {
   "cell_type": "code",
   "execution_count": 9,
   "metadata": {},
   "outputs": [],
   "source": [
    "IMG_HEIGHT =128\n",
    "IMG_WIDTH = 128\n",
    "\n",
    "inputs = Input((IMG_HEIGHT, IMG_WIDTH,1))\n",
    "\n",
    "conv1 = Conv2D(16, (3, 3), activation='relu', padding='same')(inputs)\n",
    "conv1 = Conv2D(16, (3, 3), activation='relu', padding='same')(conv1)\n",
    "pool1 = MaxPooling2D(pool_size=(2, 2))(conv1)\n",
    "\n",
    "conv2 = Conv2D(32, (3, 3), activation='relu', padding='same')(pool1)\n",
    "conv2 = Conv2D(32, (3, 3), activation='relu', padding='same')(conv2)\n",
    "pool2 = MaxPooling2D(pool_size=(2, 2))(conv2)\n",
    "\n",
    "conv3 = Conv2D(64, (3, 3), activation='relu', padding='same')(pool2)\n",
    "conv3 = Conv2D(64, (3, 3), activation='relu', padding='same')(conv3)\n",
    "pool3 = MaxPooling2D(pool_size=(2, 2))(conv3)\n",
    "\n",
    "conv4 = Conv2D(128, (3, 3), activation='relu', padding='same')(pool3)\n",
    "conv4 = Conv2D(128, (3, 3), activation='relu', padding='same')(conv4)\n",
    "pool4 = MaxPooling2D(pool_size=(2, 2))(conv4)\n",
    "\n",
    "conv5 = Conv2D(256, (3, 3), activation='relu', padding='same')(pool4)\n",
    "conv5 = Conv2D(256, (3, 3), activation='relu', padding='same')(conv5)\n",
    "\n",
    "up6 = concatenate([Conv2DTranspose(128, (2, 2), strides=(2, 2), padding='same')(conv5), conv4], axis=3)\n",
    "conv6 = Conv2D(128, (3, 3), activation='relu', padding='same')(up6)\n",
    "conv6 = Conv2D(128, (3, 3), activation='relu', padding='same')(conv6)\n",
    "\n",
    "up7 = concatenate([Conv2DTranspose(64, (2, 2), strides=(2, 2), padding='same')(conv6), conv3], axis=3)\n",
    "conv7 = Conv2D(64, (3, 3), activation='relu', padding='same')(up7)\n",
    "conv7 = Conv2D(64, (3, 3), activation='relu', padding='same')(conv7)\n",
    "\n",
    "up8 = concatenate([Conv2DTranspose(32, (2, 2), strides=(2, 2), padding='same')(conv7), conv2], axis=3)\n",
    "conv8 = Conv2D(32, (3, 3), activation='relu', padding='same')(up8)\n",
    "conv8 = Conv2D(32, (3, 3), activation='relu', padding='same')(conv8)\n",
    "\n",
    "up9 = concatenate([Conv2DTranspose(16, (2, 2), strides=(2, 2), padding='same')(conv8), conv1], axis=3)\n",
    "conv9 = Conv2D(16, (3, 3), activation='relu', padding='same')(up9)\n",
    "conv9 = Conv2D(16, (3, 3), activation='relu', padding='same')(conv9)\n",
    "\n",
    "conv10 = Conv2D(1, (1, 1), activation='sigmoid')(conv9)\n",
    "\n",
    "model = Model(inputs=[inputs], outputs=[conv10])\n",
    "model.compile(optimizer=Adam(lr = 1e-5), loss=loss_dice, metrics=[dice_coefficent])"
   ]
  },
  {
   "cell_type": "code",
   "execution_count": 12,
   "metadata": {},
   "outputs": [
    {
     "name": "stdout",
     "output_type": "stream",
     "text": [
      "Train on 80 samples, validate on 20 samples\n",
      "Epoch 1/20\n",
      "80/80 [==============================] - 17s 214ms/step - loss: -0.0240 - dice_coefficent: 0.0240 - val_loss: -0.0236 - val_dice_coefficent: 0.0236\n",
      "Epoch 2/20\n",
      "80/80 [==============================] - 17s 218ms/step - loss: -0.0241 - dice_coefficent: 0.0241 - val_loss: -0.0236 - val_dice_coefficent: 0.0236\n",
      "Epoch 3/20\n",
      "80/80 [==============================] - 17s 218ms/step - loss: -0.0242 - dice_coefficent: 0.0242 - val_loss: -0.0237 - val_dice_coefficent: 0.0237\n",
      "Epoch 4/20\n",
      "80/80 [==============================] - 17s 215ms/step - loss: -0.0243 - dice_coefficent: 0.0243 - val_loss: -0.0239 - val_dice_coefficent: 0.0239\n",
      "Epoch 5/20\n",
      "80/80 [==============================] - 17s 210ms/step - loss: -0.0245 - dice_coefficent: 0.0245 - val_loss: -0.0242 - val_dice_coefficent: 0.0242\n",
      "Epoch 6/20\n",
      "80/80 [==============================] - 17s 216ms/step - loss: -0.0249 - dice_coefficent: 0.0249 - val_loss: -0.0246 - val_dice_coefficent: 0.0246\n",
      "Epoch 7/20\n",
      "80/80 [==============================] - 17s 217ms/step - loss: -0.0254 - dice_coefficent: 0.0254 - val_loss: -0.0254 - val_dice_coefficent: 0.0254\n",
      "Epoch 8/20\n",
      "80/80 [==============================] - 17s 218ms/step - loss: -0.0264 - dice_coefficent: 0.0264 - val_loss: -0.0261 - val_dice_coefficent: 0.0261\n",
      "Epoch 9/20\n",
      "80/80 [==============================] - 17s 219ms/step - loss: -0.0269 - dice_coefficent: 0.0269 - val_loss: -0.0265 - val_dice_coefficent: 0.0265\n",
      "Epoch 10/20\n",
      "80/80 [==============================] - 17s 213ms/step - loss: -0.0273 - dice_coefficent: 0.0273 - val_loss: -0.0271 - val_dice_coefficent: 0.0271\n",
      "Epoch 11/20\n",
      "80/80 [==============================] - 17s 214ms/step - loss: -0.0281 - dice_coefficent: 0.0281 - val_loss: -0.0283 - val_dice_coefficent: 0.0283\n",
      "Epoch 12/20\n",
      "80/80 [==============================] - 17s 218ms/step - loss: -0.0297 - dice_coefficent: 0.0297 - val_loss: -0.0313 - val_dice_coefficent: 0.0313\n",
      "Epoch 13/20\n",
      "80/80 [==============================] - 17s 218ms/step - loss: -0.0332 - dice_coefficent: 0.0332 - val_loss: -0.0347 - val_dice_coefficent: 0.0347\n",
      "Epoch 14/20\n",
      "80/80 [==============================] - 17s 218ms/step - loss: -0.0358 - dice_coefficent: 0.0358 - val_loss: -0.0362 - val_dice_coefficent: 0.0362\n",
      "Epoch 15/20\n",
      "80/80 [==============================] - 17s 213ms/step - loss: -0.0381 - dice_coefficent: 0.0381 - val_loss: -0.0380 - val_dice_coefficent: 0.0380\n",
      "Epoch 16/20\n",
      "80/80 [==============================] - 17s 214ms/step - loss: -0.0388 - dice_coefficent: 0.0388 - val_loss: -0.0382 - val_dice_coefficent: 0.0382\n",
      "Epoch 17/20\n",
      "80/80 [==============================] - 17s 216ms/step - loss: -0.0390 - dice_coefficent: 0.0390 - val_loss: -0.0387 - val_dice_coefficent: 0.0387\n",
      "Epoch 18/20\n",
      "80/80 [==============================] - 17s 218ms/step - loss: -0.0429 - dice_coefficent: 0.0429 - val_loss: -0.0424 - val_dice_coefficent: 0.0424\n",
      "Epoch 19/20\n",
      "80/80 [==============================] - 17s 218ms/step - loss: -0.0551 - dice_coefficent: 0.0551 - val_loss: -0.0787 - val_dice_coefficent: 0.0787\n",
      "Epoch 20/20\n",
      "80/80 [==============================] - 17s 215ms/step - loss: -0.1030 - dice_coefficent: 0.1030 - val_loss: -0.1505 - val_dice_coefficent: 0.1505\n"
     ]
    }
   ],
   "source": [
    "results = model.fit(X, y, validation_split=0.2,batch_size=4, epochs=20,shuffle=True)"
   ]
  },
  {
   "cell_type": "code",
   "execution_count": 54,
   "metadata": {},
   "outputs": [
    {
     "name": "stdout",
     "output_type": "stream",
     "text": [
      "Epoch 1/10\n",
      "1/8 [==>...........................] - ETA: 2:07 - loss: -0.1339 - dice_coefficent: 0.1339"
     ]
    },
    {
     "ename": "StopIteration",
     "evalue": "",
     "output_type": "error",
     "traceback": [
      "\u001b[1;31m---------------------------------------------------------------------------\u001b[0m",
      "\u001b[1;31mStopIteration\u001b[0m                             Traceback (most recent call last)",
      "\u001b[1;32m<ipython-input-54-df868c34f447>\u001b[0m in \u001b[0;36m<module>\u001b[1;34m()\u001b[0m\n\u001b[0;32m     24\u001b[0m \u001b[0mmodel\u001b[0m\u001b[1;33m.\u001b[0m\u001b[0mcompile\u001b[0m\u001b[1;33m(\u001b[0m\u001b[0moptimizer\u001b[0m\u001b[1;33m=\u001b[0m\u001b[0mAdam\u001b[0m\u001b[1;33m(\u001b[0m\u001b[0mlr\u001b[0m \u001b[1;33m=\u001b[0m \u001b[1;36m1e-5\u001b[0m\u001b[1;33m)\u001b[0m\u001b[1;33m,\u001b[0m \u001b[0mloss\u001b[0m\u001b[1;33m=\u001b[0m\u001b[0mloss_dice\u001b[0m\u001b[1;33m,\u001b[0m \u001b[0mmetrics\u001b[0m\u001b[1;33m=\u001b[0m\u001b[1;33m[\u001b[0m\u001b[0mdice_coefficent\u001b[0m\u001b[1;33m]\u001b[0m\u001b[1;33m)\u001b[0m\u001b[1;33m\u001b[0m\u001b[0m\n\u001b[0;32m     25\u001b[0m history = model.fit_generator(train_gen, steps_per_epoch=steps_per_epoch, epochs = epochs,\n\u001b[1;32m---> 26\u001b[1;33m                              validation_data = val_gen, validation_steps = validation_steps)\n\u001b[0m",
      "\u001b[1;32m~\\Anaconda3\\envs\\myenv\\lib\\site-packages\\keras\\legacy\\interfaces.py\u001b[0m in \u001b[0;36mwrapper\u001b[1;34m(*args, **kwargs)\u001b[0m\n\u001b[0;32m     89\u001b[0m                 warnings.warn('Update your `' + object_name + '` call to the ' +\n\u001b[0;32m     90\u001b[0m                               'Keras 2 API: ' + signature, stacklevel=2)\n\u001b[1;32m---> 91\u001b[1;33m             \u001b[1;32mreturn\u001b[0m \u001b[0mfunc\u001b[0m\u001b[1;33m(\u001b[0m\u001b[1;33m*\u001b[0m\u001b[0margs\u001b[0m\u001b[1;33m,\u001b[0m \u001b[1;33m**\u001b[0m\u001b[0mkwargs\u001b[0m\u001b[1;33m)\u001b[0m\u001b[1;33m\u001b[0m\u001b[0m\n\u001b[0m\u001b[0;32m     92\u001b[0m         \u001b[0mwrapper\u001b[0m\u001b[1;33m.\u001b[0m\u001b[0m_original_function\u001b[0m \u001b[1;33m=\u001b[0m \u001b[0mfunc\u001b[0m\u001b[1;33m\u001b[0m\u001b[0m\n\u001b[0;32m     93\u001b[0m         \u001b[1;32mreturn\u001b[0m \u001b[0mwrapper\u001b[0m\u001b[1;33m\u001b[0m\u001b[0m\n",
      "\u001b[1;32m~\\Anaconda3\\envs\\myenv\\lib\\site-packages\\keras\\engine\\training.py\u001b[0m in \u001b[0;36mfit_generator\u001b[1;34m(self, generator, steps_per_epoch, epochs, verbose, callbacks, validation_data, validation_steps, class_weight, max_queue_size, workers, use_multiprocessing, shuffle, initial_epoch)\u001b[0m\n\u001b[0;32m   1416\u001b[0m             \u001b[0muse_multiprocessing\u001b[0m\u001b[1;33m=\u001b[0m\u001b[0muse_multiprocessing\u001b[0m\u001b[1;33m,\u001b[0m\u001b[1;33m\u001b[0m\u001b[0m\n\u001b[0;32m   1417\u001b[0m             \u001b[0mshuffle\u001b[0m\u001b[1;33m=\u001b[0m\u001b[0mshuffle\u001b[0m\u001b[1;33m,\u001b[0m\u001b[1;33m\u001b[0m\u001b[0m\n\u001b[1;32m-> 1418\u001b[1;33m             initial_epoch=initial_epoch)\n\u001b[0m\u001b[0;32m   1419\u001b[0m \u001b[1;33m\u001b[0m\u001b[0m\n\u001b[0;32m   1420\u001b[0m     \u001b[1;33m@\u001b[0m\u001b[0minterfaces\u001b[0m\u001b[1;33m.\u001b[0m\u001b[0mlegacy_generator_methods_support\u001b[0m\u001b[1;33m\u001b[0m\u001b[0m\n",
      "\u001b[1;32m~\\Anaconda3\\envs\\myenv\\lib\\site-packages\\keras\\engine\\training_generator.py\u001b[0m in \u001b[0;36mfit_generator\u001b[1;34m(model, generator, steps_per_epoch, epochs, verbose, callbacks, validation_data, validation_steps, class_weight, max_queue_size, workers, use_multiprocessing, shuffle, initial_epoch)\u001b[0m\n\u001b[0;32m    179\u001b[0m             \u001b[0mbatch_index\u001b[0m \u001b[1;33m=\u001b[0m \u001b[1;36m0\u001b[0m\u001b[1;33m\u001b[0m\u001b[0m\n\u001b[0;32m    180\u001b[0m             \u001b[1;32mwhile\u001b[0m \u001b[0msteps_done\u001b[0m \u001b[1;33m<\u001b[0m \u001b[0msteps_per_epoch\u001b[0m\u001b[1;33m:\u001b[0m\u001b[1;33m\u001b[0m\u001b[0m\n\u001b[1;32m--> 181\u001b[1;33m                 \u001b[0mgenerator_output\u001b[0m \u001b[1;33m=\u001b[0m \u001b[0mnext\u001b[0m\u001b[1;33m(\u001b[0m\u001b[0moutput_generator\u001b[0m\u001b[1;33m)\u001b[0m\u001b[1;33m\u001b[0m\u001b[0m\n\u001b[0m\u001b[0;32m    182\u001b[0m \u001b[1;33m\u001b[0m\u001b[0m\n\u001b[0;32m    183\u001b[0m                 \u001b[1;32mif\u001b[0m \u001b[1;32mnot\u001b[0m \u001b[0mhasattr\u001b[0m\u001b[1;33m(\u001b[0m\u001b[0mgenerator_output\u001b[0m\u001b[1;33m,\u001b[0m \u001b[1;34m'__len__'\u001b[0m\u001b[1;33m)\u001b[0m\u001b[1;33m:\u001b[0m\u001b[1;33m\u001b[0m\u001b[0m\n",
      "\u001b[1;31mStopIteration\u001b[0m: "
     ]
    }
   ],
   "source": [
    "def Generator(X_list, y_list, batch_size = 16):\n",
    "    \n",
    "    c = 0\n",
    "    for i in range(c,c+batch_size):\n",
    "        X_list[i - c] = X_list[i]\n",
    "        y_list[i - c] = y_list[i]\n",
    "        \n",
    "    c += batch_size\n",
    "    if(c+batch_size >= len(X_list)):\n",
    "        c = 0\n",
    "    yield X, y   \n",
    "\n",
    "X_train, X_val, y_train, y_val = train_test_split(X,y, test_size = 0.3, random_state = 1)\n",
    "\n",
    "epochs = 10\n",
    "batch_size = 8\n",
    "steps_per_epoch = int(len(X_train) / batch_size)\n",
    "validation_steps = int(len(X_val) / batch_size)\n",
    "\n",
    "train_gen = Generator(X_train, y_train, batch_size = batch_size)\n",
    "val_gen = Generator(X_val, y_val, batch_size = batch_size)\n",
    "\n",
    "model = Model(inputs=[inputs], outputs=[conv10])\n",
    "model.compile(optimizer=Adam(lr = 1e-5), loss=loss_dice, metrics=[dice_coefficent])\n",
    "history = model.fit_generator(train_gen, steps_per_epoch=steps_per_epoch, epochs = epochs,\n",
    "                             validation_data = val_gen, validation_steps = validation_steps)"
   ]
  },
  {
   "cell_type": "code",
   "execution_count": 55,
   "metadata": {},
   "outputs": [],
   "source": [
    "test_list = os.listdir(\"input/test/test\")\n",
    "reg =re.compile(\"[0-9]+\")\n",
    "\n",
    "temp1 = list(map(lambda x: reg.match(x).group(), test_list)) \n",
    "temp1 = list(map(int, temp1))\n",
    "test_list = [x for _,x in sorted(zip(temp1, test_list))]\n",
    "X=[]\n",
    "for i in range(len(test_list)):\n",
    "    img = Image.open('input/test/test/'+test_list[i])\n",
    "    img_resized = img.resize((128,128))\n",
    "    X.append(np.array(img_resized))\n",
    "    \n",
    "X= np.asarray(X)\n",
    "X= X[:,:,:,np.newaxis]/255\n",
    "\n",
    "np.save('xtest.npy',X)"
   ]
  },
  {
   "cell_type": "code",
   "execution_count": 39,
   "metadata": {},
   "outputs": [],
   "source": [
    "y_pred =model.predict(X)"
   ]
  },
  {
   "cell_type": "code",
   "execution_count": 45,
   "metadata": {},
   "outputs": [
    {
     "name": "stderr",
     "output_type": "stream",
     "text": [
      "C:\\Users\\Sailalitha\\Anaconda3\\envs\\myenv\\lib\\site-packages\\skimage\\transform\\_warps.py:84: UserWarning: The default mode, 'constant', will be changed to 'reflect' in skimage 0.15.\n",
      "  warn(\"The default mode, 'constant', will be changed to 'reflect' in \"\n"
     ]
    },
    {
     "name": "stdout",
     "output_type": "stream",
     "text": [
      "5500/5508\r"
     ]
    }
   ],
   "source": [
    "def run_length_enc(label):\n",
    "    from itertools import chain\n",
    "    x = label.transpose().flatten()\n",
    "    y = np.where(x > 0)[0]\n",
    "    if len(y) < 10:  # consider as empty\n",
    "        return ''\n",
    "    z = np.where(np.diff(y) > 1)[0]\n",
    "    start = np.insert(y[z+1], 0, y[0])\n",
    "    end = np.append(y[z], y[-1])\n",
    "    length = end - start\n",
    "    res = [[s+1, l+1] for s, l in zip(list(start), list(length))]\n",
    "    res = list(chain.from_iterable(res))\n",
    "    return ' '.join([str(r) for r in res])\n",
    "\n",
    "\n",
    "rles = []\n",
    "for i in range(X.shape[0]):\n",
    "    img = y_pred[i, :, :, 0]\n",
    "    img = img > 0.5\n",
    "    img = resize(img, (420, 580), preserve_range=True)\n",
    "    rle = run_length_enc(img)\n",
    "    rles.append(rle)\n",
    "    if i % 100 == 0:\n",
    "        print('{}/{}'.format(i, X.shape[0]), end = \"\\r\")\n",
    "         \n",
    "sub = pd.read_csv('input/sample_submission.csv')\n",
    "sub['pixels'] = rles\n",
    "sub.to_csv(\"submission.csv\", index = False)"
   ]
  },
  {
   "cell_type": "code",
   "execution_count": null,
   "metadata": {},
   "outputs": [],
   "source": []
  }
 ],
 "metadata": {
  "kernelspec": {
   "display_name": "Python 3",
   "language": "python",
   "name": "python3"
  },
  "language_info": {
   "codemirror_mode": {
    "name": "ipython",
    "version": 3
   },
   "file_extension": ".py",
   "mimetype": "text/x-python",
   "name": "python",
   "nbconvert_exporter": "python",
   "pygments_lexer": "ipython3",
   "version": "3.6.3"
  }
 },
 "nbformat": 4,
 "nbformat_minor": 2
}
